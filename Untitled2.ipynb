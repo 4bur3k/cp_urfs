{
  "cells": [
    {
      "cell_type": "code",
      "execution_count": 1,
      "metadata": {
        "id": "QTN7aMJsRsRc"
      },
      "outputs": [],
      "source": [
        "import os\n",
        "import whisper\n",
        "import re\n",
        "import numpy as np"
      ]
    },
    {
      "cell_type": "code",
      "execution_count": 2,
      "metadata": {
        "id": "KjhzbR_sUNCL"
      },
      "outputs": [],
      "source": [
        "classes = {\n",
        "    0: 'Промо/Нет/Нет',\n",
        "    1: 'Имидж/Нет/Нет',\n",
        "    2: 'Имидж/Нет/Да',\n",
        "    3: 'Промо/Доставка/Нет',\n",
        "    4: 'Промо/Нет/Да',\n",
        "    5: 'Имидж/Доставка/Нет',\n",
        "    6: 'промо/Нет/Нет',\n",
        "    7: 'Имидж',\n",
        "    8: 'Кредитование',\n",
        "    9: 'Range',\n",
        "    10: 'Дебетовые карты',\n",
        "    11: 'Услуги бизнесу',\n",
        "    12: 'Кредитные карты',\n",
        "    13: 'Инвестиционные продукты',\n",
        "    14: 'Экосистемные сервисы',\n",
        "    15: 'Музыка',\n",
        "    16: 'Колонки+Голосовой помощник',\n",
        "    17: 'Клипы',\n",
        "    18: 'Соц сети'\n",
        "}"
      ]
    },
    {
      "cell_type": "code",
      "execution_count": 3,
      "metadata": {
        "colab": {
          "base_uri": "https://localhost:8080/",
          "height": 991
        },
        "id": "WOzxyGbfKK-l",
        "outputId": "816633b9-0d78-49ec-ff04-e2bd0644970f"
      },
      "outputs": [],
      "source": [
        "#грузим виспер\n",
        "# model = whisper.load_model('large')\n",
        "model = whisper.load_model('tiny')"
      ]
    },
    {
      "cell_type": "code",
      "execution_count": 4,
      "metadata": {
        "id": "ZJCty16GoFRn"
      },
      "outputs": [],
      "source": [
        "def get_path(id, data):\n",
        "  id = str(id)\n",
        "  for i in data:\n",
        "    if re.fullmatch(r'D:/Downloads/train_dataset_train_Mediawise/'+id+r'\\..+', i):\n",
        "      return str(i)\n",
        "  return 'NaN'"
      ]
    },
    {
      "cell_type": "code",
      "execution_count": 5,
      "metadata": {
        "colab": {
          "base_uri": "https://localhost:8080/",
          "height": 219
        },
        "id": "6WstyMcZjKQ-",
        "outputId": "2dce8b92-924c-402d-a2d3-e682702a7db7"
      },
      "outputs": [
        {
          "data": {
            "text/html": [
              "<div>\n",
              "<style scoped>\n",
              "    .dataframe tbody tr th:only-of-type {\n",
              "        vertical-align: middle;\n",
              "    }\n",
              "\n",
              "    .dataframe tbody tr th {\n",
              "        vertical-align: top;\n",
              "    }\n",
              "\n",
              "    .dataframe thead th {\n",
              "        text-align: right;\n",
              "    }\n",
              "</style>\n",
              "<table border=\"1\" class=\"dataframe\">\n",
              "  <thead>\n",
              "    <tr style=\"text-align: right;\">\n",
              "      <th></th>\n",
              "      <th>Advertisement ID</th>\n",
              "      <th>Segment_num</th>\n",
              "      <th>path_to_video</th>\n",
              "    </tr>\n",
              "  </thead>\n",
              "  <tbody>\n",
              "    <tr>\n",
              "      <th>0</th>\n",
              "      <td>1831845</td>\n",
              "      <td>16</td>\n",
              "      <td>D:/Downloads/train_dataset_train_Mediawise/183...</td>\n",
              "    </tr>\n",
              "    <tr>\n",
              "      <th>1</th>\n",
              "      <td>4467135</td>\n",
              "      <td>11</td>\n",
              "      <td>D:/Downloads/train_dataset_train_Mediawise/446...</td>\n",
              "    </tr>\n",
              "    <tr>\n",
              "      <th>2</th>\n",
              "      <td>2285593</td>\n",
              "      <td>0</td>\n",
              "      <td>D:/Downloads/train_dataset_train_Mediawise/228...</td>\n",
              "    </tr>\n",
              "    <tr>\n",
              "      <th>3</th>\n",
              "      <td>3825366</td>\n",
              "      <td>0</td>\n",
              "      <td>D:/Downloads/train_dataset_train_Mediawise/382...</td>\n",
              "    </tr>\n",
              "    <tr>\n",
              "      <th>4</th>\n",
              "      <td>2313008</td>\n",
              "      <td>0</td>\n",
              "      <td>D:/Downloads/train_dataset_train_Mediawise/231...</td>\n",
              "    </tr>\n",
              "    <tr>\n",
              "      <th>5</th>\n",
              "      <td>3959329</td>\n",
              "      <td>0</td>\n",
              "      <td>D:/Downloads/train_dataset_train_Mediawise/395...</td>\n",
              "    </tr>\n",
              "    <tr>\n",
              "      <th>6</th>\n",
              "      <td>4321218</td>\n",
              "      <td>1</td>\n",
              "      <td>D:/Downloads/train_dataset_train_Mediawise/432...</td>\n",
              "    </tr>\n",
              "    <tr>\n",
              "      <th>7</th>\n",
              "      <td>3996624</td>\n",
              "      <td>0</td>\n",
              "      <td>D:/Downloads/train_dataset_train_Mediawise/399...</td>\n",
              "    </tr>\n",
              "    <tr>\n",
              "      <th>8</th>\n",
              "      <td>2200306</td>\n",
              "      <td>1</td>\n",
              "      <td>D:/Downloads/train_dataset_train_Mediawise/220...</td>\n",
              "    </tr>\n",
              "    <tr>\n",
              "      <th>9</th>\n",
              "      <td>4437486</td>\n",
              "      <td>7</td>\n",
              "      <td>D:/Downloads/train_dataset_train_Mediawise/443...</td>\n",
              "    </tr>\n",
              "  </tbody>\n",
              "</table>\n",
              "</div>"
            ],
            "text/plain": [
              "   Advertisement ID  Segment_num  \\\n",
              "0           1831845           16   \n",
              "1           4467135           11   \n",
              "2           2285593            0   \n",
              "3           3825366            0   \n",
              "4           2313008            0   \n",
              "5           3959329            0   \n",
              "6           4321218            1   \n",
              "7           3996624            0   \n",
              "8           2200306            1   \n",
              "9           4437486            7   \n",
              "\n",
              "                                       path_to_video  \n",
              "0  D:/Downloads/train_dataset_train_Mediawise/183...  \n",
              "1  D:/Downloads/train_dataset_train_Mediawise/446...  \n",
              "2  D:/Downloads/train_dataset_train_Mediawise/228...  \n",
              "3  D:/Downloads/train_dataset_train_Mediawise/382...  \n",
              "4  D:/Downloads/train_dataset_train_Mediawise/231...  \n",
              "5  D:/Downloads/train_dataset_train_Mediawise/395...  \n",
              "6  D:/Downloads/train_dataset_train_Mediawise/432...  \n",
              "7  D:/Downloads/train_dataset_train_Mediawise/399...  \n",
              "8  D:/Downloads/train_dataset_train_Mediawise/220...  \n",
              "9  D:/Downloads/train_dataset_train_Mediawise/443...  "
            ]
          },
          "execution_count": 5,
          "metadata": {},
          "output_type": "execute_result"
        }
      ],
      "source": [
        "import pandas as pd\n",
        "\n",
        "path_to_dataset = 'D:/Downloads/'\n",
        "\n",
        "df = pd.read_csv(path_to_dataset+'train_segments.csv')[0:10]\n",
        "\n",
        "video_paths = [path_to_dataset+'train_dataset_train_Mediawise/'+i for i in os.listdir(path_to_dataset+'train_dataset_train_Mediawise')]\n",
        "\n",
        "arr = []\n",
        "\n",
        "for i in df['Advertisement ID']:\n",
        "  arr.append(get_path(i, video_paths))\n",
        "\n",
        "df = pd.concat([df, pd.DataFrame(arr, columns=['path_to_video'])], axis=1, ignore_index=True)\n",
        "\n",
        "df.columns = ['Advertisement ID',\t'Segment_num',\t'path_to_video']\n",
        "\n",
        "df"
      ]
    },
    {
      "cell_type": "code",
      "execution_count": 6,
      "metadata": {},
      "outputs": [
        {
          "name": "stdout",
          "output_type": "stream",
          "text": [
            "<class 'pandas.core.frame.DataFrame'>\n",
            "RangeIndex: 10 entries, 0 to 9\n",
            "Data columns (total 3 columns):\n",
            " #   Column            Non-Null Count  Dtype \n",
            "---  ------            --------------  ----- \n",
            " 0   Advertisement ID  10 non-null     int64 \n",
            " 1   Segment_num       10 non-null     int64 \n",
            " 2   path_to_video     10 non-null     object\n",
            "dtypes: int64(2), object(1)\n",
            "memory usage: 368.0+ bytes\n"
          ]
        }
      ],
      "source": [
        "df.info()"
      ]
    },
    {
      "cell_type": "code",
      "execution_count": 7,
      "metadata": {},
      "outputs": [
        {
          "name": "stdout",
          "output_type": "stream",
          "text": [
            "D:/Downloads/train_dataset_train_Mediawise/1831845.mp4\n",
            "D:/Downloads/train_dataset_train_Mediawise/4467135.avi\n",
            "D:/Downloads/train_dataset_train_Mediawise/2285593.wav\n",
            "D:/Downloads/train_dataset_train_Mediawise/3825366.avi\n",
            "D:/Downloads/train_dataset_train_Mediawise/2313008.wav\n",
            "D:/Downloads/train_dataset_train_Mediawise/3959329.avi\n",
            "D:/Downloads/train_dataset_train_Mediawise/4321218.avi\n",
            "D:/Downloads/train_dataset_train_Mediawise/3996624.avi\n",
            "D:/Downloads/train_dataset_train_Mediawise/2200306.wav\n",
            "D:/Downloads/train_dataset_train_Mediawise/4437486.avi\n"
          ]
        }
      ],
      "source": [
        "for video in df['path_to_video']:\n",
        "  print(video)"
      ]
    },
    {
      "cell_type": "code",
      "execution_count": 8,
      "metadata": {},
      "outputs": [
        {
          "name": "stderr",
          "output_type": "stream",
          "text": [
            "C:\\Users\\denis\\venv\\Lib\\site-packages\\whisper\\transcribe.py:115: UserWarning: FP16 is not supported on CPU; using FP32 instead\n",
            "  warnings.warn(\"FP16 is not supported on CPU; using FP32 instead\")\n"
          ]
        },
        {
          "data": {
            "text/plain": [
              "' Теперь меня держал его на бер primanut ненав calendар deixи.'"
            ]
          },
          "execution_count": 8,
          "metadata": {},
          "output_type": "execute_result"
        }
      ],
      "source": [
        "result = model.transcribe('D:/Downloads/train_dataset_train_Mediawise/4437486.avi')\n",
        "result[\"text\"]"
      ]
    },
    {
      "cell_type": "code",
      "execution_count": 9,
      "metadata": {
        "colab": {
          "base_uri": "https://localhost:8080/"
        },
        "id": "FNlg5A7DKqNb",
        "outputId": "9a49b3f0-6e93-4fa5-da39-69709678d339"
      },
      "outputs": [
        {
          "name": "stdout",
          "output_type": "stream",
          "text": [
            "D:/Downloads/train_dataset_train_Mediawise/1831845.mp4\n",
            "D:/Downloads/train_dataset_train_Mediawise/4467135.avi\n",
            "D:/Downloads/train_dataset_train_Mediawise/2285593.wav\n",
            "D:/Downloads/train_dataset_train_Mediawise/3825366.avi\n",
            "D:/Downloads/train_dataset_train_Mediawise/2313008.wav\n",
            "D:/Downloads/train_dataset_train_Mediawise/3959329.avi\n",
            "D:/Downloads/train_dataset_train_Mediawise/4321218.avi\n",
            "D:/Downloads/train_dataset_train_Mediawise/3996624.avi\n",
            "D:/Downloads/train_dataset_train_Mediawise/2200306.wav\n",
            "D:/Downloads/train_dataset_train_Mediawise/4437486.avi\n"
          ]
        }
      ],
      "source": [
        "#создаем словарь всех транскрипций из датасета\n",
        "trans_arr = []\n",
        "\n",
        "for video in df['path_to_video']:\n",
        "  print(video)\n",
        "  result = model.transcribe(video)\n",
        "  trans_arr.append(result[\"text\"])"
      ]
    },
    {
      "cell_type": "code",
      "execution_count": 10,
      "metadata": {},
      "outputs": [],
      "source": [
        "df = pd.concat([df, pd.DataFrame(trans_arr, columns=['transcription'])], axis=1, ignore_index=True)\n",
        "df.columns = ['Advertisement ID',\t'Segment_num',\t'path_to_video', 'transcription']\n"
      ]
    },
    {
      "cell_type": "code",
      "execution_count": 13,
      "metadata": {},
      "outputs": [
        {
          "data": {
            "text/html": [
              "<div>\n",
              "<style scoped>\n",
              "    .dataframe tbody tr th:only-of-type {\n",
              "        vertical-align: middle;\n",
              "    }\n",
              "\n",
              "    .dataframe tbody tr th {\n",
              "        vertical-align: top;\n",
              "    }\n",
              "\n",
              "    .dataframe thead th {\n",
              "        text-align: right;\n",
              "    }\n",
              "</style>\n",
              "<table border=\"1\" class=\"dataframe\">\n",
              "  <thead>\n",
              "    <tr style=\"text-align: right;\">\n",
              "      <th></th>\n",
              "      <th>Advertisement ID</th>\n",
              "      <th>Segment_num</th>\n",
              "      <th>path_to_video</th>\n",
              "      <th>transcription</th>\n",
              "    </tr>\n",
              "  </thead>\n",
              "  <tbody>\n",
              "    <tr>\n",
              "      <th>0</th>\n",
              "      <td>1831845</td>\n",
              "      <td>16</td>\n",
              "      <td>D:/Downloads/train_dataset_train_Mediawise/183...</td>\n",
              "      <td>Яндекс Танцаминии и рюдругие улётные подарки ...</td>\n",
              "    </tr>\n",
              "    <tr>\n",
              "      <th>1</th>\n",
              "      <td>4467135</td>\n",
              "      <td>11</td>\n",
              "      <td>D:/Downloads/train_dataset_train_Mediawise/446...</td>\n",
              "      <td>Из нас подставляет с нем предклиним отделяем....</td>\n",
              "    </tr>\n",
              "    <tr>\n",
              "      <th>2</th>\n",
              "      <td>2285593</td>\n",
              "      <td>0</td>\n",
              "      <td>D:/Downloads/train_dataset_train_Mediawise/228...</td>\n",
              "      <td>Дипермаркет Магнитэксера открылся об Санг в П...</td>\n",
              "    </tr>\n",
              "    <tr>\n",
              "      <th>3</th>\n",
              "      <td>3825366</td>\n",
              "      <td>0</td>\n",
              "      <td>D:/Downloads/train_dataset_train_Mediawise/382...</td>\n",
              "      <td>В средства для стирки Рель 2020.</td>\n",
              "    </tr>\n",
              "    <tr>\n",
              "      <th>4</th>\n",
              "      <td>2313008</td>\n",
              "      <td>0</td>\n",
              "      <td>D:/Downloads/train_dataset_train_Mediawise/231...</td>\n",
              "      <td>Henri Wallusion Маллешки</td>\n",
              "    </tr>\n",
              "    <tr>\n",
              "      <th>5</th>\n",
              "      <td>3959329</td>\n",
              "      <td>0</td>\n",
              "      <td>D:/Downloads/train_dataset_train_Mediawise/395...</td>\n",
              "      <td>Вот для стирки лоск, 150-19. Петерочка выручает.</td>\n",
              "    </tr>\n",
              "    <tr>\n",
              "      <th>6</th>\n",
              "      <td>4321218</td>\n",
              "      <td>1</td>\n",
              "      <td>D:/Downloads/train_dataset_train_Mediawise/432...</td>\n",
              "      <td>Магнитка сметик, заботится, значит любить, ко...</td>\n",
              "    </tr>\n",
              "    <tr>\n",
              "      <th>7</th>\n",
              "      <td>3996624</td>\n",
              "      <td>0</td>\n",
              "      <td>D:/Downloads/train_dataset_train_Mediawise/399...</td>\n",
              "      <td>Теперь можно в компании. В метрах лождённая г...</td>\n",
              "    </tr>\n",
              "    <tr>\n",
              "      <th>8</th>\n",
              "      <td>2200306</td>\n",
              "      <td>1</td>\n",
              "      <td>D:/Downloads/train_dataset_train_Mediawise/220...</td>\n",
              "      <td>В аптолвом центре метра сокий соскиткой 40% З...</td>\n",
              "    </tr>\n",
              "    <tr>\n",
              "      <th>9</th>\n",
              "      <td>4437486</td>\n",
              "      <td>7</td>\n",
              "      <td>D:/Downloads/train_dataset_train_Mediawise/443...</td>\n",
              "      <td>JONИТА, kurnsой моим нерезентом captured лёдс...</td>\n",
              "    </tr>\n",
              "  </tbody>\n",
              "</table>\n",
              "</div>"
            ],
            "text/plain": [
              "   Advertisement ID  Segment_num  \\\n",
              "0           1831845           16   \n",
              "1           4467135           11   \n",
              "2           2285593            0   \n",
              "3           3825366            0   \n",
              "4           2313008            0   \n",
              "5           3959329            0   \n",
              "6           4321218            1   \n",
              "7           3996624            0   \n",
              "8           2200306            1   \n",
              "9           4437486            7   \n",
              "\n",
              "                                       path_to_video  \\\n",
              "0  D:/Downloads/train_dataset_train_Mediawise/183...   \n",
              "1  D:/Downloads/train_dataset_train_Mediawise/446...   \n",
              "2  D:/Downloads/train_dataset_train_Mediawise/228...   \n",
              "3  D:/Downloads/train_dataset_train_Mediawise/382...   \n",
              "4  D:/Downloads/train_dataset_train_Mediawise/231...   \n",
              "5  D:/Downloads/train_dataset_train_Mediawise/395...   \n",
              "6  D:/Downloads/train_dataset_train_Mediawise/432...   \n",
              "7  D:/Downloads/train_dataset_train_Mediawise/399...   \n",
              "8  D:/Downloads/train_dataset_train_Mediawise/220...   \n",
              "9  D:/Downloads/train_dataset_train_Mediawise/443...   \n",
              "\n",
              "                                       transcription  \n",
              "0   Яндекс Танцаминии и рюдругие улётные подарки ...  \n",
              "1   Из нас подставляет с нем предклиним отделяем....  \n",
              "2   Дипермаркет Магнитэксера открылся об Санг в П...  \n",
              "3                   В средства для стирки Рель 2020.  \n",
              "4                           Henri Wallusion Маллешки  \n",
              "5   Вот для стирки лоск, 150-19. Петерочка выручает.  \n",
              "6   Магнитка сметик, заботится, значит любить, ко...  \n",
              "7   Теперь можно в компании. В метрах лождённая г...  \n",
              "8   В аптолвом центре метра сокий соскиткой 40% З...  \n",
              "9   JONИТА, kurnsой моим нерезентом captured лёдс...  "
            ]
          },
          "execution_count": 13,
          "metadata": {},
          "output_type": "execute_result"
        }
      ],
      "source": [
        "df"
      ]
    },
    {
      "cell_type": "code",
      "execution_count": 11,
      "metadata": {
        "id": "DozvlUaHO9nU"
      },
      "outputs": [],
      "source": [
        "from sklearn.model_selection import train_test_split\n",
        "from sklearn.naive_bayes import MultinomialNB\n",
        "# from sklearn.neural_network import MLPClassifier\n",
        "from sklearn.metrics import accuracy_score\n",
        "from sklearn.feature_extraction.text import TfidfVectorizer"
      ]
    },
    {
      "cell_type": "code",
      "execution_count": 73,
      "metadata": {},
      "outputs": [],
      "source": [
        "def foo(var):\n",
        "    arr = []\n",
        "    for i in var:\n",
        "        arr.append(i[0])\n",
        "    return arr"
      ]
    },
    {
      "cell_type": "code",
      "execution_count": 75,
      "metadata": {
        "id": "Am4nM338UEwV"
      },
      "outputs": [
        {
          "name": "stdout",
          "output_type": "stream",
          "text": [
            "Точность модели: 0.5\n"
          ]
        },
        {
          "name": "stderr",
          "output_type": "stream",
          "text": [
            "C:\\Users\\denis\\venv\\Lib\\site-packages\\sklearn\\utils\\validation.py:1300: DataConversionWarning: A column-vector y was passed when a 1d array was expected. Please change the shape of y to (n_samples, ), for example using ravel().\n",
            "  y = column_or_1d(y, warn=True)\n"
          ]
        }
      ],
      "source": [
        "labels = []\n",
        "for key in classes.keys():\n",
        "  labels.append(key)\n",
        "\n",
        "\n",
        "X_train, X_test, y_train, y_test = train_test_split(df[['transcription']], df[['Segment_num']],test_size=0.2, random_state=0)\n",
        "\n",
        "tfidf_vectorizer = TfidfVectorizer()\n",
        "X_train_tfidf = tfidf_vectorizer.fit_transform(foo(X_train.values.tolist()))\n",
        "X_test_tfidf = tfidf_vectorizer.transform(foo(X_test.values.tolist()))\n",
        "\n",
        "classifier = MultinomialNB()\n",
        "classifier.fit(X_train_tfidf, y_train)\n",
        "\n",
        "y_pred = classifier.predict(X_test_tfidf)\n",
        "\n",
        "accuracy = accuracy_score(y_test, y_pred)\n",
        "print(f\"Точность модели: {accuracy}\")"
      ]
    }
  ],
  "metadata": {
    "accelerator": "GPU",
    "colab": {
      "gpuType": "T4",
      "provenance": []
    },
    "kernelspec": {
      "display_name": "Python 3 (ipykernel)",
      "language": "python",
      "name": "python3"
    },
    "language_info": {
      "codemirror_mode": {
        "name": "ipython",
        "version": 3
      },
      "file_extension": ".py",
      "mimetype": "text/x-python",
      "name": "python",
      "nbconvert_exporter": "python",
      "pygments_lexer": "ipython3",
      "version": "3.11.0"
    }
  },
  "nbformat": 4,
  "nbformat_minor": 0
}
